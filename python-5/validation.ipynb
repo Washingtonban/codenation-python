{
 "cells": [
  {
   "cell_type": "code",
   "execution_count": 6,
   "metadata": {
    "collapsed": true
   },
   "outputs": [],
   "source": [
    "from datetime import datetime\n",
    "from datetime import datetime\n",
    "from datetime import timedelta\n",
    "import pandas as pd"
   ]
  },
  {
   "cell_type": "code",
   "execution_count": 10,
   "outputs": [],
   "source": [
    "records = [\n",
    "    {'source': '48-996355555', 'destination': '48-666666666', 'end': 1564610974, 'start': 1564610674},\n",
    "    {'source': '41-885633788', 'destination': '41-886383097', 'end': 1564506121, 'start': 1564504821},\n",
    "    {'source': '48-996383697', 'destination': '41-886383097', 'end': 1564630198, 'start': 1564629838},\n",
    "    {'source': '48-999999999', 'destination': '41-885633788', 'end': 1564697158, 'start': 1564696258},\n",
    "    {'source': '41-833333333', 'destination': '41-885633788', 'end': 1564707276, 'start': 1564704317},\n",
    "    {'source': '41-886383097', 'destination': '48-996384099', 'end': 1564505621, 'start': 1564504821},\n",
    "    {'source': '48-999999999', 'destination': '48-996383697', 'end': 1564505721, 'start': 1564504821},\n",
    "    {'source': '41-885633788', 'destination': '48-996384099', 'end': 1564505721, 'start': 1564504821},\n",
    "    {'source': '48-996355555', 'destination': '48-996383697', 'end': 1564505821, 'start': 1564504821},\n",
    "    {'source': '48-999999999', 'destination': '41-886383097', 'end': 1564610750, 'start': 1564610150},\n",
    "    {'source': '48-996383697', 'destination': '41-885633788', 'end': 1564505021, 'start': 1564504821},\n",
    "    {'source': '48-996383697', 'destination': '41-885633788', 'end': 1564627800, 'start': 1564626000}\n",
    "]"
   ],
   "metadata": {
    "collapsed": false,
    "pycharm": {
     "name": "#%%\n"
    }
   }
  },
  {
   "cell_type": "code",
   "execution_count": 11,
   "outputs": [],
   "source": [
    "def same_day(call):\n",
    "    start_day = datetime.fromtimestamp(records[call]['start'])\n",
    "    end_day = datetime.fromtimestamp(records[call]['end'])\n",
    "    if start_day.day == end_day.day:\n",
    "        return True\n",
    "    else:\n",
    "        return False\n",
    "\n",
    "\n",
    "def calculate_call(line):\n",
    "    minute = 60\n",
    "    permanent_tariff = 0.36\n",
    "    call_rate = 0.09\n",
    "    hour_start_call = datetime.fromtimestamp(records[line]['start']).hour\n",
    "    hour_end_call = datetime.fromtimestamp(records[line]['end']).hour\n",
    "    call_time = int((records[line]['end'] - records[line]['start']) / minute)\n",
    "    if (hour_start_call > 6 and hour_end_call <= 22):\n",
    "        call_cost = (call_time * call_rate) + permanent_tariff\n",
    "    else:\n",
    "        call_cost = permanent_tariff\n",
    "    return round(call_cost, 2)\n",
    "\n",
    "\n",
    "def sum_result(dict):\n",
    "    resposta = pd.DataFrame(dict)\n",
    "    df = pd.DataFrame(resposta.groupby('source')['total'].sum().sort_values(ascending=False)).reset_index()\n",
    "    new_result = []\n",
    "    for item in range(len(df)):\n",
    "        line_result = {}\n",
    "        line_result['source'] = df.source[item]\n",
    "        line_result['total'] = round(df.total[item], 2)\n",
    "        new_result.append(line_result)\n",
    "    return new_result\n",
    "\n",
    "\n",
    "def classify_by_phone_number(records):\n",
    "    result = []\n",
    "    for call in range(len(records)):\n",
    "        source = records[call]['source']\n",
    "        if same_day(call):\n",
    "            result_line = {}\n",
    "            result_line['source'] = source\n",
    "            result_line['total'] = calculate_call(call)\n",
    "            result.append(result_line)\n",
    "    return sum_result(result)"
   ],
   "metadata": {
    "collapsed": false,
    "pycharm": {
     "name": "#%%\n"
    }
   }
  },
  {
   "cell_type": "code",
   "execution_count": 12,
   "outputs": [
    {
     "data": {
      "text/plain": "[{'source': '41-833333333', 'total': 4.77},\n {'source': '48-999999999', 'total': 4.68},\n {'source': '48-996383697', 'total': 4.05},\n {'source': '41-885633788', 'total': 3.96},\n {'source': '48-996355555', 'total': 2.61},\n {'source': '41-886383097', 'total': 1.53}]"
     },
     "execution_count": 12,
     "metadata": {},
     "output_type": "execute_result"
    }
   ],
   "source": [
    "classify_by_phone_number(records)"
   ],
   "metadata": {
    "collapsed": false,
    "pycharm": {
     "name": "#%%\n"
    }
   }
  },
  {
   "cell_type": "code",
   "execution_count": null,
   "outputs": [],
   "source": [
    "\n"
   ],
   "metadata": {
    "collapsed": false,
    "pycharm": {
     "name": "#%%\n"
    }
   }
  }
 ],
 "metadata": {
  "kernelspec": {
   "display_name": "Python 3",
   "language": "python",
   "name": "python3"
  },
  "language_info": {
   "codemirror_mode": {
    "name": "ipython",
    "version": 2
   },
   "file_extension": ".py",
   "mimetype": "text/x-python",
   "name": "python",
   "nbconvert_exporter": "python",
   "pygments_lexer": "ipython2",
   "version": "2.7.6"
  }
 },
 "nbformat": 4,
 "nbformat_minor": 0
}