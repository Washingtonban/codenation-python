{
 "cells": [
  {
   "cell_type": "code",
   "execution_count": 1,
   "metadata": {
    "collapsed": true
   },
   "outputs": [],
   "source": [
    "from datetime import datetime\n",
    "from datetime import timedelta\n",
    "import pandas as pd"
   ]
  },
  {
   "cell_type": "code",
   "execution_count": 2,
   "outputs": [],
   "source": [
    "records = [\n",
    "    {'source': '48-996355555', 'destination': '48-666666666', 'end': 1564610974, 'start': 1564610674},\n",
    "    {'source': '41-885633788', 'destination': '41-886383097', 'end': 1564506121, 'start': 1564504821},\n",
    "    {'source': '48-996383697', 'destination': '41-886383097', 'end': 1564630198, 'start': 1564629838},\n",
    "    {'source': '48-999999999', 'destination': '41-885633788', 'end': 1564697158, 'start': 1564696258},\n",
    "    {'source': '41-833333333', 'destination': '41-885633788', 'end': 1564707276, 'start': 1564704317},\n",
    "    {'source': '41-886383097', 'destination': '48-996384099', 'end': 1564505621, 'start': 1564504821},\n",
    "    {'source': '48-999999999', 'destination': '48-996383697', 'end': 1564505721, 'start': 1564504821},\n",
    "    {'source': '41-885633788', 'destination': '48-996384099', 'end': 1564505721, 'start': 1564504821},\n",
    "    {'source': '48-996355555', 'destination': '48-996383697', 'end': 1564505821, 'start': 1564504821},\n",
    "    {'source': '48-999999999', 'destination': '41-886383097', 'end': 1564610750, 'start': 1564610150},\n",
    "    {'source': '48-996383697', 'destination': '41-885633788', 'end': 1564505021, 'start': 1564504821},\n",
    "    {'source': '48-996383697', 'destination': '41-885633788', 'end': 1564627800, 'start': 1564626000}\n",
    "]"
   ],
   "metadata": {
    "collapsed": false,
    "pycharm": {
     "name": "#%%\n"
    }
   }
  },
  {
   "cell_type": "code",
   "execution_count": 4,
   "outputs": [],
   "source": [
    "def same_day(line):\n",
    "    start_day = datetime.fromtimestamp(records[line]['start'])\n",
    "    end_day = datetime.fromtimestamp(records[line]['end'])\n",
    "    if start_day.day == end_day.day:\n",
    "        return True\n",
    "    else:\n",
    "        return False"
   ],
   "metadata": {
    "collapsed": false,
    "pycharm": {
     "name": "#%%\n"
    }
   }
  },
  {
   "cell_type": "code",
   "execution_count": 14,
   "outputs": [],
   "source": [
    "def calculate_call(line):\n",
    "    minute = 60\n",
    "    permanent_tariff = 0.36\n",
    "    call_rate = 0.09\n",
    "    hour_start_call = datetime.fromtimestamp(records[line]['start']).hour\n",
    "    hour_end_call = datetime.fromtimestamp(records[line]['end']).hour\n",
    "    call_time = int((records[line]['end'] - records[line]['start']) / minute)\n",
    "    if (hour_start_call >= 6 and hour_end_call < 22):\n",
    "        call_cost = (call_time * call_rate) + permanent_tariff\n",
    "    else:\n",
    "        call_cost = permanent_tariff\n",
    "    return call_cost"
   ],
   "metadata": {
    "collapsed": false,
    "pycharm": {
     "name": "#%%\n"
    }
   }
  },
  {
   "cell_type": "code",
   "execution_count": 15,
   "outputs": [],
   "source": [
    "def classify_by_phone_number(records):\n",
    "    result = []\n",
    "    for call in range(len(records)):\n",
    "        source = records[call]['source']\n",
    "        if same_day(call):\n",
    "            result_line = {}\n",
    "            result_line['source'] = source\n",
    "            result_line['total'] = round(calculate_call(call), 2)\n",
    "            result.append(result_line)\n",
    "    return result"
   ],
   "metadata": {
    "collapsed": false,
    "pycharm": {
     "name": "#%%\n"
    }
   }
  },
  {
   "cell_type": "code",
   "execution_count": 16,
   "outputs": [],
   "source": [
    "resposta = pd.DataFrame(classify_by_phone_number(records))"
   ],
   "metadata": {
    "collapsed": false,
    "pycharm": {
     "name": "#%%\n"
    }
   }
  },
  {
   "cell_type": "code",
   "execution_count": 17,
   "outputs": [
    {
     "data": {
      "text/plain": "         source  total\n0  41-833333333   4.77\n1  48-999999999   4.68\n2  41-885633788   3.96\n3  48-996355555   2.61\n4  41-886383097   1.53\n5  48-996383697   1.35",
      "text/html": "<div>\n<style scoped>\n    .dataframe tbody tr th:only-of-type {\n        vertical-align: middle;\n    }\n\n    .dataframe tbody tr th {\n        vertical-align: top;\n    }\n\n    .dataframe thead th {\n        text-align: right;\n    }\n</style>\n<table border=\"1\" class=\"dataframe\">\n  <thead>\n    <tr style=\"text-align: right;\">\n      <th></th>\n      <th>source</th>\n      <th>total</th>\n    </tr>\n  </thead>\n  <tbody>\n    <tr>\n      <th>0</th>\n      <td>41-833333333</td>\n      <td>4.77</td>\n    </tr>\n    <tr>\n      <th>1</th>\n      <td>48-999999999</td>\n      <td>4.68</td>\n    </tr>\n    <tr>\n      <th>2</th>\n      <td>41-885633788</td>\n      <td>3.96</td>\n    </tr>\n    <tr>\n      <th>3</th>\n      <td>48-996355555</td>\n      <td>2.61</td>\n    </tr>\n    <tr>\n      <th>4</th>\n      <td>41-886383097</td>\n      <td>1.53</td>\n    </tr>\n    <tr>\n      <th>5</th>\n      <td>48-996383697</td>\n      <td>1.35</td>\n    </tr>\n  </tbody>\n</table>\n</div>"
     },
     "execution_count": 17,
     "metadata": {},
     "output_type": "execute_result"
    }
   ],
   "source": [
    "df = pd.DataFrame(resposta.groupby('source')['total'].sum().sort_values(ascending=False)).reset_index()\n",
    "df"
   ],
   "metadata": {
    "collapsed": false,
    "pycharm": {
     "name": "#%%\n"
    }
   }
  },
  {
   "cell_type": "code",
   "execution_count": 18,
   "outputs": [],
   "source": [
    "r = []\n",
    "for item in range(len(df)):\n",
    "    rs = {}\n",
    "    rs['source'] = df.source[item]\n",
    "    rs['total'] = round(df.total[item], 2)\n",
    "    r.append(rs)"
   ],
   "metadata": {
    "collapsed": false,
    "pycharm": {
     "name": "#%%\n"
    }
   }
  },
  {
   "cell_type": "code",
   "execution_count": 19,
   "outputs": [
    {
     "data": {
      "text/plain": "[{'source': '41-833333333', 'total': 4.77},\n {'source': '48-999999999', 'total': 4.68},\n {'source': '41-885633788', 'total': 3.96},\n {'source': '48-996355555', 'total': 2.61},\n {'source': '41-886383097', 'total': 1.53},\n {'source': '48-996383697', 'total': 1.35}]"
     },
     "execution_count": 19,
     "metadata": {},
     "output_type": "execute_result"
    }
   ],
   "source": [
    "r"
   ],
   "metadata": {
    "collapsed": false,
    "pycharm": {
     "name": "#%%\n"
    }
   }
  },
  {
   "cell_type": "code",
   "execution_count": 20,
   "outputs": [],
   "source": [
    "dict = classify_by_phone_number(records)"
   ],
   "metadata": {
    "collapsed": false,
    "pycharm": {
     "name": "#%%\n"
    }
   }
  },
  {
   "cell_type": "code",
   "execution_count": 21,
   "outputs": [],
   "source": [
    "def sum_result(dict):\n",
    "    resposta = pd.DataFrame(dict)\n",
    "    df = pd.DataFrame(resposta.groupby('source')['total'].sum().sort_values(ascending=False)).reset_index()\n",
    "    new_result = []\n",
    "    for item in range(len(df)):\n",
    "        line_result = {}\n",
    "        line_result['source'] = df.source[item]\n",
    "        line_result['total'] = round(df.total[item], 2)\n",
    "        new_result.append(line_result)\n",
    "    return new_result"
   ],
   "metadata": {
    "collapsed": false,
    "pycharm": {
     "name": "#%%\n"
    }
   }
  },
  {
   "cell_type": "code",
   "execution_count": 22,
   "outputs": [
    {
     "data": {
      "text/plain": "[{'source': '41-833333333', 'total': 4.77},\n {'source': '48-999999999', 'total': 4.68},\n {'source': '41-885633788', 'total': 3.96},\n {'source': '48-996355555', 'total': 2.61},\n {'source': '41-886383097', 'total': 1.53},\n {'source': '48-996383697', 'total': 1.35}]"
     },
     "execution_count": 22,
     "metadata": {},
     "output_type": "execute_result"
    }
   ],
   "source": [
    "sum_result(df)\n",
    "\n",
    "\n",
    "\n",
    "\n"
   ],
   "metadata": {
    "collapsed": false,
    "pycharm": {
     "name": "#%%\n"
    }
   }
  },
  {
   "cell_type": "code",
   "execution_count": null,
   "outputs": [],
   "source": [
    "\n"
   ],
   "metadata": {
    "collapsed": false,
    "pycharm": {
     "name": "#%%\n"
    }
   }
  }
 ],
 "metadata": {
  "kernelspec": {
   "display_name": "Python 3",
   "language": "python",
   "name": "python3"
  },
  "language_info": {
   "codemirror_mode": {
    "name": "ipython",
    "version": 2
   },
   "file_extension": ".py",
   "mimetype": "text/x-python",
   "name": "python",
   "nbconvert_exporter": "python",
   "pygments_lexer": "ipython2",
   "version": "2.7.6"
  }
 },
 "nbformat": 4,
 "nbformat_minor": 0
}