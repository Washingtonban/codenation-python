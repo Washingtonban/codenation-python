{
 "cells": [
  {
   "cell_type": "code",
   "execution_count": 1,
   "metadata": {
    "collapsed": true
   },
   "outputs": [],
   "source": [
    "records = [\n",
    "    {'source': '48-996355555', 'destination': '48-666666666', 'end': 1564610974, 'start': 1564610674},\n",
    "    {'source': '41-885633788', 'destination': '41-886383097', 'end': 1564506121, 'start': 1564504821},\n",
    "    {'source': '48-996383697', 'destination': '41-886383097', 'end': 1564630198, 'start': 1564629838},\n",
    "    {'source': '48-999999999', 'destination': '41-885633788', 'end': 1564697158, 'start': 1564696258},\n",
    "    {'source': '41-833333333', 'destination': '41-885633788', 'end': 1564707276, 'start': 1564704317},\n",
    "    {'source': '41-886383097', 'destination': '48-996384099', 'end': 1564505621, 'start': 1564504821},\n",
    "    {'source': '48-999999999', 'destination': '48-996383697', 'end': 1564505721, 'start': 1564504821},\n",
    "    {'source': '41-885633788', 'destination': '48-996384099', 'end': 1564505721, 'start': 1564504821},\n",
    "    {'source': '48-996355555', 'destination': '48-996383697', 'end': 1564505821, 'start': 1564504821},\n",
    "    {'source': '48-999999999', 'destination': '41-886383097', 'end': 1564610750, 'start': 1564610150},\n",
    "    {'source': '48-996383697', 'destination': '41-885633788', 'end': 1564505021, 'start': 1564504821},\n",
    "    {'source': '48-996383697', 'destination': '41-885633788', 'end': 1564627800, 'start': 1564626000}\n",
    "]"
   ]
  },
  {
   "cell_type": "code",
   "execution_count": 2,
   "outputs": [],
   "source": [
    "from datetime import datetime\n",
    "\n",
    "import pandas as pd\n",
    "\n",
    "FIXEDTAX = 0.36\n",
    "DAYTAX = 0.09\n",
    "\n",
    "def _cost_by_period(duration, start, end):\n",
    "    if (int(start.hour) >= 6) and (int(end.hour) <= 22):\n",
    "        return FIXEDTAX + (duration.seconds//60) * DAYTAX\n",
    "    else:\n",
    "        return FIXEDTAX\n",
    "\n",
    "\n",
    "def _call_cost(calls):\n",
    "    start_call = datetime.fromtimestamp(calls['start'])\n",
    "    end_call = datetime.fromtimestamp(calls['end'])\n",
    "    duration = end_call - start_call\n",
    "    cost = f'{_cost_by_period(duration, start_call, end_call):,.2f}'\n",
    "    return float(cost)\n",
    "\n",
    "\n",
    "def get_costs(records):\n",
    "    for calls in records:\n",
    "        calls.update({'cost': _call_cost(calls)})\n",
    "    return records\n",
    "\n",
    "\n",
    "def classify_by_phone_number(records):\n",
    "    total_bills = []\n",
    "    records_cost = get_costs(records)\n",
    "    df_bills = pd.DataFrame(records_cost)\n",
    "    group_bills = df_bills.groupby('source')['cost'].sum()\\\n",
    "        .reset_index().rename(columns={'cost':'total'})\\\n",
    "        .sort_values(by='total', ascending=False)\n",
    "    sources = [s for s in group_bills['source']]\n",
    "    totals = [tt for tt in group_bills['total']]\n",
    "    for bill in zip(sources, totals):\n",
    "        total_bills.append({'source': bill[0], 'total': round(bill[1], 2)})\n",
    "    return total_bills"
   ],
   "metadata": {
    "collapsed": false,
    "pycharm": {
     "name": "#%%\n"
    }
   }
  },
  {
   "cell_type": "code",
   "execution_count": 3,
   "outputs": [
    {
     "data": {
      "text/plain": "[{'source': '41-833333333', 'total': 4.77},\n {'source': '48-999999999', 'total': 4.68},\n {'source': '48-996383697', 'total': 4.05},\n {'source': '41-885633788', 'total': 3.96},\n {'source': '48-996355555', 'total': 2.61},\n {'source': '41-886383097', 'total': 1.53}]"
     },
     "execution_count": 3,
     "metadata": {},
     "output_type": "execute_result"
    }
   ],
   "source": [
    "classify_by_phone_number(records)"
   ],
   "metadata": {
    "collapsed": false,
    "pycharm": {
     "name": "#%%\n"
    }
   }
  },
  {
   "cell_type": "code",
   "execution_count": null,
   "outputs": [],
   "source": [
    "[{'source': '41-833333333', 'total': 4.77},\n",
    " {'source': '48-999999999', 'total': 4.68},\n",
    " {'source': '48-996383697', 'total': 4.05},\n",
    " {'source': '41-885633788', 'total': 3.96},\n",
    " {'source': '48-996355555', 'total': 2.61},\n",
    " {'source': '41-886383097', 'total': 1.53}]\n"
   ],
   "metadata": {
    "collapsed": false,
    "pycharm": {
     "name": "#%%\n"
    }
   }
  }
 ],
 "metadata": {
  "kernelspec": {
   "display_name": "Python 3",
   "language": "python",
   "name": "python3"
  },
  "language_info": {
   "codemirror_mode": {
    "name": "ipython",
    "version": 2
   },
   "file_extension": ".py",
   "mimetype": "text/x-python",
   "name": "python",
   "nbconvert_exporter": "python",
   "pygments_lexer": "ipython2",
   "version": "2.7.6"
  }
 },
 "nbformat": 4,
 "nbformat_minor": 0
}